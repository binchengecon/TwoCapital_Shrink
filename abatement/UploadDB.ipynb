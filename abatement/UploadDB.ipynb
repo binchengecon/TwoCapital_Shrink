{
 "cells": [
  {
   "cell_type": "code",
   "execution_count": 8,
   "metadata": {},
   "outputs": [
    {
     "name": "stdout",
     "output_type": "stream",
     "text": [
      "1. Go to: https://www.dropbox.com/oauth2/authorize?response_type=code&client_id=xfyyilhghe0tjgx&token_access_type=offline&scope=account_info.write+files.metadata.write+files.content.write+files.content.read+sharing.write+file_requests.write+contacts.write\n",
      "2. Click \"Allow\" (you might have to log in first).\n",
      "3. Copy the authorization code.\n",
      "Successfully set up client!\n"
     ]
    }
   ],
   "source": [
    "import pathlib\n",
    "import pandas as pd\n",
    "import dropbox\n",
    "from dropbox.exceptions import AuthError\n",
    "from dropbox import DropboxOAuth2FlowNoRedirect\n",
    "\n",
    "import os\n",
    "from tqdm import tqdm\n",
    "\n",
    "'''\n",
    "Populate your app key in order to run this locally\n",
    "'''\n",
    "APP_KEY = \"xfyyilhghe0tjgx\"\n",
    "APP_SECRET = \"i4usp8n8zd1m1za\"\n",
    "DROPBOX_ACCESS_TOKEN = 'sl.BSp2M7eldpMjchM7fVxec79meoXB3SWZyot82JJeegbKLGKXzCBO7Fmzeo4oeHg32jCKp1pAbyCOTF3lU2jLmt52NM_cziZreHyAdAMvlV1lr-qRTD6jySXrHMl_8rLU1Egcs2Ud63zs'\n",
    "\n",
    "auth_flow = DropboxOAuth2FlowNoRedirect(APP_KEY,\n",
    "                                        consumer_secret=APP_SECRET,\n",
    "                                        token_access_type='offline',\n",
    "                                        scope=['account_info.write', 'files.metadata.write', 'files.content.write', 'files.content.read', 'sharing.write', 'file_requests.write', 'contacts.write'])\n",
    "\n",
    "authorize_url = auth_flow.start()\n",
    "print(\"1. Go to: \" + authorize_url)\n",
    "print(\"2. Click \\\"Allow\\\" (you might have to log in first).\")\n",
    "print(\"3. Copy the authorization code.\")\n",
    "auth_code = input(\"Enter the authorization code here: \").strip()\n",
    "\n",
    "\n",
    "try:\n",
    "    oauth_result = auth_flow.finish(auth_code)\n",
    "    # Oauth token has files.metadata.read scope only\n",
    "    # assert oauth_result.scope == 'files.metadata.read'\n",
    "except Exception as e:\n",
    "    print('Error: %s' % (e,))\n",
    "    exit(1)\n",
    "\n",
    "\n",
    "with dropbox.Dropbox(oauth2_access_token=oauth_result.access_token,\n",
    "                     oauth2_access_token_expiration=oauth_result.expires_at,\n",
    "                     oauth2_refresh_token=oauth_result.refresh_token,\n",
    "                     app_key=APP_KEY,\n",
    "                     app_secret=APP_SECRET):\n",
    "    print(\"Successfully set up client!\")\n"
   ]
  },
  {
   "cell_type": "code",
   "execution_count": 9,
   "metadata": {},
   "outputs": [
    {
     "data": {
      "text/plain": [
       "<dropbox.dropbox_client.Dropbox at 0x1dd94196c10>"
      ]
     },
     "execution_count": 9,
     "metadata": {},
     "output_type": "execute_result"
    }
   ],
   "source": [
    "dropbox.Dropbox(oauth2_access_token=oauth_result.access_token,\n",
    "                oauth2_refresh_token=oauth_result.refresh_token,\n",
    "                app_key=APP_KEY,\n",
    "                app_secret=APP_SECRET)\n"
   ]
  },
  {
   "cell_type": "code",
   "execution_count": 10,
   "metadata": {},
   "outputs": [
    {
     "data": {
      "text/plain": [
       "OAuth2FlowNoRedirectResult(sl.BSrM6Z8d20gqiOyR31ILy1wJHv9bJSMbrGg9mqSaTt7gBtHzdLeHUtOPDdNycHtgXWFbIuXLJsyYwRhb1Qb2PZfTEgzyzTVVigho38FRoMfXzfn3GTpmMWdYDlCk8eM9Oo7KC1m5OFsa, dbid:AAAxBS02xPQjS7f-vpsrSSRnHSq0vYEAG58, 1742426592, e99Iglh-M9sAAAAAAAAAASDcaEO5UfEss3MdSD4mnygTsN3J6VTxDt6_FLqz7HhA, 2022-11-08 03:07:21.699127, account_info.read account_info.write contacts.read contacts.write file_requests.read file_requests.write files.content.read files.content.write files.metadata.read files.metadata.write sharing.read sharing.write)"
      ]
     },
     "execution_count": 10,
     "metadata": {},
     "output_type": "execute_result"
    }
   ],
   "source": [
    "oauth_result\n"
   ]
  },
  {
   "cell_type": "code",
   "execution_count": null,
   "metadata": {},
   "outputs": [],
   "source": [
    "\n",
    "authorize_url = auth_flow.start()\n",
    "\n",
    "\n",
    "# link = \"http://www.somesite.com/details.pl?urn=2344\"\n",
    "f = requests.get(authorize_url).text\n",
    "# myfile = f.read()\n",
    "# print(myfile)\n",
    "f"
   ]
  },
  {
   "cell_type": "code",
   "execution_count": null,
   "metadata": {},
   "outputs": [],
   "source": [
    "authorize_url\n"
   ]
  },
  {
   "cell_type": "code",
   "execution_count": null,
   "metadata": {},
   "outputs": [],
   "source": [
    "print(\"1. Go to: \" + authorize_url)\n",
    "print(\"2. Click \\\"Allow\\\" (you might have to log in first).\")\n",
    "print(\"3. Copy the authorization code.\")\n",
    "auth_code = input(\"Enter the authorization code here: \").strip()\n"
   ]
  }
 ],
 "metadata": {
  "interpreter": {
   "hash": "b72b1a0678ff4e7d3d5f9d09fb47a7f7d16c7a6681284ca75bdeb7532bafc16f"
  },
  "kernelspec": {
   "display_name": "Python 3.8.13",
   "language": "python",
   "name": "python3"
  },
  "language_info": {
   "codemirror_mode": {
    "name": "ipython",
    "version": 3
   },
   "file_extension": ".py",
   "mimetype": "text/x-python",
   "name": "python",
   "nbconvert_exporter": "python",
   "pygments_lexer": "ipython3",
   "version": "3.8.13"
  },
  "orig_nbformat": 4
 },
 "nbformat": 4,
 "nbformat_minor": 2
}
