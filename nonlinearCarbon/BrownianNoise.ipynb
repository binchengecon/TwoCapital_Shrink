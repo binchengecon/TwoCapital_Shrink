{
 "cells": [
  {
   "cell_type": "markdown",
   "metadata": {},
   "source": [
    "## Before Adding Brownian Noise:\n",
    "\n",
    "$$\n",
    "\\frac{dT}{dt} = \\frac{1}{c}(Q_0(1 - p \\alpha_\\text{land} - p \\alpha_\\text{oc}(T)) -   \\kappa (T - T_\\kappa) + a \\ln (\\frac{C}{C_0}) )\n",
    "$$\n",
    "\n",
    "\n",
    "\n",
    "$$\n",
    "\\frac{dC}{dt} = v + g - W_a C h(T, G) + \\frac{1}{\\tau_c}(c_0(\\kappa_P(T) +\\kappa_B(T)) -\\lambda C)(1 -\\beta(T))\n",
    "$$\n",
    "\n",
    "## After Adding Brownian Noise:\n",
    "\n",
    "$$\n",
    "\\frac{dT}{dt} = \\frac{1}{c}(Q_0(1 - p \\alpha_\\text{land} - p \\alpha_\\text{oc}(T)) -   \\kappa (T - T_\\kappa) + a \\ln (\\frac{C}{C_0}) ) + \\sigma_T dW^T_t\n",
    "$$\n",
    "\n",
    "\n",
    "$$\n",
    "\\frac{dC}{dt} = v + g - W_a C h(T, G) + \\frac{1}{\\tau_c}(c_0(\\kappa_P(T) +\\kappa_B(T)) -\\lambda C)(1 -\\beta(T))+ \\sigma_C dW^C_t\n",
    "$$\n"
   ]
  }
 ],
 "metadata": {
  "language_info": {
   "name": "python"
  },
  "orig_nbformat": 4
 },
 "nbformat": 4,
 "nbformat_minor": 2
}
